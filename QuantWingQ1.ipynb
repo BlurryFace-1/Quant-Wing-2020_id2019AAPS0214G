{
  "nbformat": 4,
  "nbformat_minor": 0,
  "metadata": {
    "colab": {
      "name": "QuantWingQ1",
      "provenance": [],
      "collapsed_sections": []
    },
    "kernelspec": {
      "name": "python3",
      "display_name": "Python 3"
    }
  },
  "cells": [
    {
      "cell_type": "code",
      "metadata": {
        "id": "GsopMZqQPTUC",
        "colab_type": "code",
        "colab": {}
      },
      "source": [
        "#website referred for formulae in the code: http://www.josephthurman.com/binomial3.html, I commented my explanations beside the respective code.\n",
        "#this method utilizes a single dictionary instead of 2 arrays as in the Paul Wilmott book.\n",
        "import math"
      ],
      "execution_count": null,
      "outputs": []
    },
    {
      "cell_type": "code",
      "metadata": {
        "id": "o6zr3DBXPZoC",
        "colab_type": "code",
        "colab": {}
      },
      "source": [
        "def binomial_call(S, K, T, r, vol, N):\n",
        "    \"\"\"\n",
        "    Note:-\n",
        "    S - stock price today\n",
        "    K - strike price of option\n",
        "    T - time until expiry of option\n",
        "    r - risk-free interest rate\n",
        "    vol - volatility of the stock\n",
        "    N - number of steps in the model\n",
        "    \"\"\"\n",
        "    dt = T/N\n",
        "    u =  math.exp(vol * math.sqrt(dt))\n",
        "    d = 1/u\n",
        "    p = (math.exp(r * dt) - d)/(u - d)\n",
        "    C = {} #dictionary to store the call option price at each node.\n",
        "    #first for loop calculates the stock prices\n",
        "    for m in range(0, N+1):\n",
        "            C[(N, m)] = max(S * (u ** (2*m - N)) - K, 0)\n",
        "    #the following for loop calculates the option value,going backwards along the binomial tree.\n",
        "    for k in range(N-1, -1, -1):\n",
        "        for m in range(0,k+1):\n",
        "            C[(k, m)] = math.exp(-r * dt) * (p * C[(k+1, m+1)] + (1-p) * C[(k+1, m)])\n",
        "    return C[(0,0)]"
      ],
      "execution_count": null,
      "outputs": []
    },
    {
      "cell_type": "code",
      "metadata": {
        "id": "jAHiOy3CPgsh",
        "colab_type": "code",
        "colab": {
          "base_uri": "https://localhost:8080/",
          "height": 208
        },
        "outputId": "be21b482-0e59-4079-e2f2-870a5e8f2313"
      },
      "source": [
        "#increasing the number of steps to show that the binomial model converges to 3.642 with a strike price of 110\n",
        "for N in [1,2,10,100,200,300,400,500,1000,2000,5000]:\n",
        "    print(\"With {:4d} steps, the price is {:.3f}\".format(N,binomial_call(100, 110, 1, 0, math.log(1.2), N)))"
      ],
      "execution_count": null,
      "outputs": [
        {
          "output_type": "stream",
          "text": [
            "With    1 steps, the price is 4.545\n",
            "With    2 steps, the price is 4.249\n",
            "With   10 steps, the price is 3.664\n",
            "With  100 steps, the price is 3.655\n",
            "With  200 steps, the price is 3.647\n",
            "With  300 steps, the price is 3.647\n",
            "With  400 steps, the price is 3.643\n",
            "With  500 steps, the price is 3.642\n",
            "With 1000 steps, the price is 3.643\n",
            "With 2000 steps, the price is 3.642\n",
            "With 5000 steps, the price is 3.642\n"
          ],
          "name": "stdout"
        }
      ]
    }
  ]
}